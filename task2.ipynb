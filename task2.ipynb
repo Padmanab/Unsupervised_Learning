{
 "cells": [
  {
   "cell_type": "markdown",
   "metadata": {},
   "source": [
    "# TASK3 TO EXPLORE UNSUPERVISED LEARNING "
   ]
  },
  {
   "cell_type": "code",
   "execution_count": 6,
   "metadata": {},
   "outputs": [],
   "source": [
    "#importing libraries\n",
    "import pandas as pd\n",
    "import numpy as np\n",
    "import seaborn as Sns\n",
    "import matplotlib.pyplot as plt\n",
    "from sklearn import datasets"
   ]
  },
  {
   "cell_type": "code",
   "execution_count": 7,
   "metadata": {},
   "outputs": [
    {
     "data": {
      "text/html": [
       "<div>\n",
       "<style scoped>\n",
       "    .dataframe tbody tr th:only-of-type {\n",
       "        vertical-align: middle;\n",
       "    }\n",
       "\n",
       "    .dataframe tbody tr th {\n",
       "        vertical-align: top;\n",
       "    }\n",
       "\n",
       "    .dataframe thead th {\n",
       "        text-align: right;\n",
       "    }\n",
       "</style>\n",
       "<table border=\"1\" class=\"dataframe\">\n",
       "  <thead>\n",
       "    <tr style=\"text-align: right;\">\n",
       "      <th></th>\n",
       "      <th>sepal_length</th>\n",
       "      <th>sepal_width</th>\n",
       "      <th>petal_length</th>\n",
       "      <th>petal_width</th>\n",
       "      <th>species</th>\n",
       "    </tr>\n",
       "  </thead>\n",
       "  <tbody>\n",
       "    <tr>\n",
       "      <th>0</th>\n",
       "      <td>5.1</td>\n",
       "      <td>3.5</td>\n",
       "      <td>1.4</td>\n",
       "      <td>0.2</td>\n",
       "      <td>setosa</td>\n",
       "    </tr>\n",
       "    <tr>\n",
       "      <th>1</th>\n",
       "      <td>4.9</td>\n",
       "      <td>3.0</td>\n",
       "      <td>1.4</td>\n",
       "      <td>0.2</td>\n",
       "      <td>setosa</td>\n",
       "    </tr>\n",
       "    <tr>\n",
       "      <th>2</th>\n",
       "      <td>4.7</td>\n",
       "      <td>3.2</td>\n",
       "      <td>1.3</td>\n",
       "      <td>0.2</td>\n",
       "      <td>setosa</td>\n",
       "    </tr>\n",
       "    <tr>\n",
       "      <th>3</th>\n",
       "      <td>4.6</td>\n",
       "      <td>3.1</td>\n",
       "      <td>1.5</td>\n",
       "      <td>0.2</td>\n",
       "      <td>setosa</td>\n",
       "    </tr>\n",
       "    <tr>\n",
       "      <th>4</th>\n",
       "      <td>5.0</td>\n",
       "      <td>3.6</td>\n",
       "      <td>1.4</td>\n",
       "      <td>0.2</td>\n",
       "      <td>setosa</td>\n",
       "    </tr>\n",
       "    <tr>\n",
       "      <th>...</th>\n",
       "      <td>...</td>\n",
       "      <td>...</td>\n",
       "      <td>...</td>\n",
       "      <td>...</td>\n",
       "      <td>...</td>\n",
       "    </tr>\n",
       "    <tr>\n",
       "      <th>145</th>\n",
       "      <td>6.7</td>\n",
       "      <td>3.0</td>\n",
       "      <td>5.2</td>\n",
       "      <td>2.3</td>\n",
       "      <td>virginica</td>\n",
       "    </tr>\n",
       "    <tr>\n",
       "      <th>146</th>\n",
       "      <td>6.3</td>\n",
       "      <td>2.5</td>\n",
       "      <td>5.0</td>\n",
       "      <td>1.9</td>\n",
       "      <td>virginica</td>\n",
       "    </tr>\n",
       "    <tr>\n",
       "      <th>147</th>\n",
       "      <td>6.5</td>\n",
       "      <td>3.0</td>\n",
       "      <td>5.2</td>\n",
       "      <td>2.0</td>\n",
       "      <td>virginica</td>\n",
       "    </tr>\n",
       "    <tr>\n",
       "      <th>148</th>\n",
       "      <td>6.2</td>\n",
       "      <td>3.4</td>\n",
       "      <td>5.4</td>\n",
       "      <td>2.3</td>\n",
       "      <td>virginica</td>\n",
       "    </tr>\n",
       "    <tr>\n",
       "      <th>149</th>\n",
       "      <td>5.9</td>\n",
       "      <td>3.0</td>\n",
       "      <td>5.1</td>\n",
       "      <td>1.8</td>\n",
       "      <td>virginica</td>\n",
       "    </tr>\n",
       "  </tbody>\n",
       "</table>\n",
       "<p>150 rows × 5 columns</p>\n",
       "</div>"
      ],
      "text/plain": [
       "     sepal_length  sepal_width  petal_length  petal_width    species\n",
       "0             5.1          3.5           1.4          0.2     setosa\n",
       "1             4.9          3.0           1.4          0.2     setosa\n",
       "2             4.7          3.2           1.3          0.2     setosa\n",
       "3             4.6          3.1           1.5          0.2     setosa\n",
       "4             5.0          3.6           1.4          0.2     setosa\n",
       "..            ...          ...           ...          ...        ...\n",
       "145           6.7          3.0           5.2          2.3  virginica\n",
       "146           6.3          2.5           5.0          1.9  virginica\n",
       "147           6.5          3.0           5.2          2.0  virginica\n",
       "148           6.2          3.4           5.4          2.3  virginica\n",
       "149           5.9          3.0           5.1          1.8  virginica\n",
       "\n",
       "[150 rows x 5 columns]"
      ]
     },
     "execution_count": 7,
     "metadata": {},
     "output_type": "execute_result"
    }
   ],
   "source": [
    "df=Sns.load_dataset(\"iris\")\n",
    "df"
   ]
  },
  {
   "cell_type": "code",
   "execution_count": 8,
   "metadata": {},
   "outputs": [
    {
     "data": {
      "text/html": [
       "<div>\n",
       "<style scoped>\n",
       "    .dataframe tbody tr th:only-of-type {\n",
       "        vertical-align: middle;\n",
       "    }\n",
       "\n",
       "    .dataframe tbody tr th {\n",
       "        vertical-align: top;\n",
       "    }\n",
       "\n",
       "    .dataframe thead th {\n",
       "        text-align: right;\n",
       "    }\n",
       "</style>\n",
       "<table border=\"1\" class=\"dataframe\">\n",
       "  <thead>\n",
       "    <tr style=\"text-align: right;\">\n",
       "      <th></th>\n",
       "      <th>sepal_length</th>\n",
       "      <th>sepal_width</th>\n",
       "      <th>petal_length</th>\n",
       "      <th>petal_width</th>\n",
       "      <th>species</th>\n",
       "    </tr>\n",
       "  </thead>\n",
       "  <tbody>\n",
       "    <tr>\n",
       "      <th>0</th>\n",
       "      <td>5.1</td>\n",
       "      <td>3.5</td>\n",
       "      <td>1.4</td>\n",
       "      <td>0.2</td>\n",
       "      <td>setosa</td>\n",
       "    </tr>\n",
       "    <tr>\n",
       "      <th>1</th>\n",
       "      <td>4.9</td>\n",
       "      <td>3.0</td>\n",
       "      <td>1.4</td>\n",
       "      <td>0.2</td>\n",
       "      <td>setosa</td>\n",
       "    </tr>\n",
       "    <tr>\n",
       "      <th>2</th>\n",
       "      <td>4.7</td>\n",
       "      <td>3.2</td>\n",
       "      <td>1.3</td>\n",
       "      <td>0.2</td>\n",
       "      <td>setosa</td>\n",
       "    </tr>\n",
       "    <tr>\n",
       "      <th>3</th>\n",
       "      <td>4.6</td>\n",
       "      <td>3.1</td>\n",
       "      <td>1.5</td>\n",
       "      <td>0.2</td>\n",
       "      <td>setosa</td>\n",
       "    </tr>\n",
       "    <tr>\n",
       "      <th>4</th>\n",
       "      <td>5.0</td>\n",
       "      <td>3.6</td>\n",
       "      <td>1.4</td>\n",
       "      <td>0.2</td>\n",
       "      <td>setosa</td>\n",
       "    </tr>\n",
       "  </tbody>\n",
       "</table>\n",
       "</div>"
      ],
      "text/plain": [
       "   sepal_length  sepal_width  petal_length  petal_width species\n",
       "0           5.1          3.5           1.4          0.2  setosa\n",
       "1           4.9          3.0           1.4          0.2  setosa\n",
       "2           4.7          3.2           1.3          0.2  setosa\n",
       "3           4.6          3.1           1.5          0.2  setosa\n",
       "4           5.0          3.6           1.4          0.2  setosa"
      ]
     },
     "execution_count": 8,
     "metadata": {},
     "output_type": "execute_result"
    }
   ],
   "source": [
    "df.head()"
   ]
  },
  {
   "cell_type": "code",
   "execution_count": 9,
   "metadata": {},
   "outputs": [
    {
     "name": "stdout",
     "output_type": "stream",
     "text": [
      "<class 'pandas.core.frame.DataFrame'>\n",
      "RangeIndex: 150 entries, 0 to 149\n",
      "Data columns (total 5 columns):\n",
      " #   Column        Non-Null Count  Dtype  \n",
      "---  ------        --------------  -----  \n",
      " 0   sepal_length  150 non-null    float64\n",
      " 1   sepal_width   150 non-null    float64\n",
      " 2   petal_length  150 non-null    float64\n",
      " 3   petal_width   150 non-null    float64\n",
      " 4   species       150 non-null    object \n",
      "dtypes: float64(4), object(1)\n",
      "memory usage: 6.0+ KB\n"
     ]
    }
   ],
   "source": [
    "df.info()"
   ]
  },
  {
   "cell_type": "code",
   "execution_count": 10,
   "metadata": {},
   "outputs": [
    {
     "data": {
      "text/plain": [
       "(150, 5)"
      ]
     },
     "execution_count": 10,
     "metadata": {},
     "output_type": "execute_result"
    }
   ],
   "source": [
    "df.shape"
   ]
  },
  {
   "cell_type": "code",
   "execution_count": 11,
   "metadata": {},
   "outputs": [
    {
     "data": {
      "text/html": [
       "<div>\n",
       "<style scoped>\n",
       "    .dataframe tbody tr th:only-of-type {\n",
       "        vertical-align: middle;\n",
       "    }\n",
       "\n",
       "    .dataframe tbody tr th {\n",
       "        vertical-align: top;\n",
       "    }\n",
       "\n",
       "    .dataframe thead th {\n",
       "        text-align: right;\n",
       "    }\n",
       "</style>\n",
       "<table border=\"1\" class=\"dataframe\">\n",
       "  <thead>\n",
       "    <tr style=\"text-align: right;\">\n",
       "      <th></th>\n",
       "      <th>sepal_length</th>\n",
       "      <th>sepal_width</th>\n",
       "      <th>petal_length</th>\n",
       "      <th>petal_width</th>\n",
       "    </tr>\n",
       "  </thead>\n",
       "  <tbody>\n",
       "    <tr>\n",
       "      <th>count</th>\n",
       "      <td>150.000000</td>\n",
       "      <td>150.000000</td>\n",
       "      <td>150.000000</td>\n",
       "      <td>150.000000</td>\n",
       "    </tr>\n",
       "    <tr>\n",
       "      <th>mean</th>\n",
       "      <td>5.843333</td>\n",
       "      <td>3.057333</td>\n",
       "      <td>3.758000</td>\n",
       "      <td>1.199333</td>\n",
       "    </tr>\n",
       "    <tr>\n",
       "      <th>std</th>\n",
       "      <td>0.828066</td>\n",
       "      <td>0.435866</td>\n",
       "      <td>1.765298</td>\n",
       "      <td>0.762238</td>\n",
       "    </tr>\n",
       "    <tr>\n",
       "      <th>min</th>\n",
       "      <td>4.300000</td>\n",
       "      <td>2.000000</td>\n",
       "      <td>1.000000</td>\n",
       "      <td>0.100000</td>\n",
       "    </tr>\n",
       "    <tr>\n",
       "      <th>25%</th>\n",
       "      <td>5.100000</td>\n",
       "      <td>2.800000</td>\n",
       "      <td>1.600000</td>\n",
       "      <td>0.300000</td>\n",
       "    </tr>\n",
       "    <tr>\n",
       "      <th>50%</th>\n",
       "      <td>5.800000</td>\n",
       "      <td>3.000000</td>\n",
       "      <td>4.350000</td>\n",
       "      <td>1.300000</td>\n",
       "    </tr>\n",
       "    <tr>\n",
       "      <th>75%</th>\n",
       "      <td>6.400000</td>\n",
       "      <td>3.300000</td>\n",
       "      <td>5.100000</td>\n",
       "      <td>1.800000</td>\n",
       "    </tr>\n",
       "    <tr>\n",
       "      <th>max</th>\n",
       "      <td>7.900000</td>\n",
       "      <td>4.400000</td>\n",
       "      <td>6.900000</td>\n",
       "      <td>2.500000</td>\n",
       "    </tr>\n",
       "  </tbody>\n",
       "</table>\n",
       "</div>"
      ],
      "text/plain": [
       "       sepal_length  sepal_width  petal_length  petal_width\n",
       "count    150.000000   150.000000    150.000000   150.000000\n",
       "mean       5.843333     3.057333      3.758000     1.199333\n",
       "std        0.828066     0.435866      1.765298     0.762238\n",
       "min        4.300000     2.000000      1.000000     0.100000\n",
       "25%        5.100000     2.800000      1.600000     0.300000\n",
       "50%        5.800000     3.000000      4.350000     1.300000\n",
       "75%        6.400000     3.300000      5.100000     1.800000\n",
       "max        7.900000     4.400000      6.900000     2.500000"
      ]
     },
     "execution_count": 11,
     "metadata": {},
     "output_type": "execute_result"
    }
   ],
   "source": [
    "df.describe()"
   ]
  },
  {
   "cell_type": "code",
   "execution_count": 12,
   "metadata": {},
   "outputs": [
    {
     "data": {
      "text/plain": [
       "array(['setosa', 'versicolor', 'virginica'], dtype=object)"
      ]
     },
     "execution_count": 12,
     "metadata": {},
     "output_type": "execute_result"
    }
   ],
   "source": [
    "# checking unique column in dataset\n",
    "df.species.unique()"
   ]
  },
  {
   "cell_type": "code",
   "execution_count": 13,
   "metadata": {},
   "outputs": [
    {
     "data": {
      "text/plain": [
       "sepal_length    0\n",
       "sepal_width     0\n",
       "petal_length    0\n",
       "petal_width     0\n",
       "species         0\n",
       "dtype: int64"
      ]
     },
     "execution_count": 13,
     "metadata": {},
     "output_type": "execute_result"
    }
   ],
   "source": [
    "df.isnull().sum()"
   ]
  },
  {
   "cell_type": "code",
   "execution_count": 15,
   "metadata": {},
   "outputs": [],
   "source": [
    "# removing Iris prefix from each species name\n",
    "df.loc[df['species']==\"Iris-setosa\",['species']]=\"Setosa\"\n",
    "df.loc[df['species']==\"Iris-virginica\",['species']]=\"Virginica\"\n",
    "df.loc[df['species']==\"Iris-versicolor\",['species']]=\"Versicolor\""
   ]
  },
  {
   "cell_type": "code",
   "execution_count": 16,
   "metadata": {},
   "outputs": [
    {
     "data": {
      "text/html": [
       "<div>\n",
       "<style scoped>\n",
       "    .dataframe tbody tr th:only-of-type {\n",
       "        vertical-align: middle;\n",
       "    }\n",
       "\n",
       "    .dataframe tbody tr th {\n",
       "        vertical-align: top;\n",
       "    }\n",
       "\n",
       "    .dataframe thead th {\n",
       "        text-align: right;\n",
       "    }\n",
       "</style>\n",
       "<table border=\"1\" class=\"dataframe\">\n",
       "  <thead>\n",
       "    <tr style=\"text-align: right;\">\n",
       "      <th></th>\n",
       "      <th>sepal_length</th>\n",
       "      <th>sepal_width</th>\n",
       "      <th>petal_length</th>\n",
       "      <th>petal_width</th>\n",
       "      <th>species</th>\n",
       "    </tr>\n",
       "  </thead>\n",
       "  <tbody>\n",
       "    <tr>\n",
       "      <th>0</th>\n",
       "      <td>5.1</td>\n",
       "      <td>3.5</td>\n",
       "      <td>1.4</td>\n",
       "      <td>0.2</td>\n",
       "      <td>setosa</td>\n",
       "    </tr>\n",
       "    <tr>\n",
       "      <th>1</th>\n",
       "      <td>4.9</td>\n",
       "      <td>3.0</td>\n",
       "      <td>1.4</td>\n",
       "      <td>0.2</td>\n",
       "      <td>setosa</td>\n",
       "    </tr>\n",
       "    <tr>\n",
       "      <th>2</th>\n",
       "      <td>4.7</td>\n",
       "      <td>3.2</td>\n",
       "      <td>1.3</td>\n",
       "      <td>0.2</td>\n",
       "      <td>setosa</td>\n",
       "    </tr>\n",
       "    <tr>\n",
       "      <th>3</th>\n",
       "      <td>4.6</td>\n",
       "      <td>3.1</td>\n",
       "      <td>1.5</td>\n",
       "      <td>0.2</td>\n",
       "      <td>setosa</td>\n",
       "    </tr>\n",
       "    <tr>\n",
       "      <th>4</th>\n",
       "      <td>5.0</td>\n",
       "      <td>3.6</td>\n",
       "      <td>1.4</td>\n",
       "      <td>0.2</td>\n",
       "      <td>setosa</td>\n",
       "    </tr>\n",
       "  </tbody>\n",
       "</table>\n",
       "</div>"
      ],
      "text/plain": [
       "   sepal_length  sepal_width  petal_length  petal_width species\n",
       "0           5.1          3.5           1.4          0.2  setosa\n",
       "1           4.9          3.0           1.4          0.2  setosa\n",
       "2           4.7          3.2           1.3          0.2  setosa\n",
       "3           4.6          3.1           1.5          0.2  setosa\n",
       "4           5.0          3.6           1.4          0.2  setosa"
      ]
     },
     "execution_count": 16,
     "metadata": {},
     "output_type": "execute_result"
    }
   ],
   "source": [
    "df.head()"
   ]
  },
  {
   "cell_type": "code",
   "execution_count": 17,
   "metadata": {},
   "outputs": [
    {
     "data": {
      "text/html": [
       "<div>\n",
       "<style scoped>\n",
       "    .dataframe tbody tr th:only-of-type {\n",
       "        vertical-align: middle;\n",
       "    }\n",
       "\n",
       "    .dataframe tbody tr th {\n",
       "        vertical-align: top;\n",
       "    }\n",
       "\n",
       "    .dataframe thead th {\n",
       "        text-align: right;\n",
       "    }\n",
       "</style>\n",
       "<table border=\"1\" class=\"dataframe\">\n",
       "  <thead>\n",
       "    <tr style=\"text-align: right;\">\n",
       "      <th></th>\n",
       "      <th>sepal_length</th>\n",
       "      <th>sepal_width</th>\n",
       "      <th>petal_length</th>\n",
       "      <th>petal_width</th>\n",
       "      <th>species</th>\n",
       "    </tr>\n",
       "  </thead>\n",
       "  <tbody>\n",
       "    <tr>\n",
       "      <th>145</th>\n",
       "      <td>6.7</td>\n",
       "      <td>3.0</td>\n",
       "      <td>5.2</td>\n",
       "      <td>2.3</td>\n",
       "      <td>virginica</td>\n",
       "    </tr>\n",
       "    <tr>\n",
       "      <th>146</th>\n",
       "      <td>6.3</td>\n",
       "      <td>2.5</td>\n",
       "      <td>5.0</td>\n",
       "      <td>1.9</td>\n",
       "      <td>virginica</td>\n",
       "    </tr>\n",
       "    <tr>\n",
       "      <th>147</th>\n",
       "      <td>6.5</td>\n",
       "      <td>3.0</td>\n",
       "      <td>5.2</td>\n",
       "      <td>2.0</td>\n",
       "      <td>virginica</td>\n",
       "    </tr>\n",
       "    <tr>\n",
       "      <th>148</th>\n",
       "      <td>6.2</td>\n",
       "      <td>3.4</td>\n",
       "      <td>5.4</td>\n",
       "      <td>2.3</td>\n",
       "      <td>virginica</td>\n",
       "    </tr>\n",
       "    <tr>\n",
       "      <th>149</th>\n",
       "      <td>5.9</td>\n",
       "      <td>3.0</td>\n",
       "      <td>5.1</td>\n",
       "      <td>1.8</td>\n",
       "      <td>virginica</td>\n",
       "    </tr>\n",
       "  </tbody>\n",
       "</table>\n",
       "</div>"
      ],
      "text/plain": [
       "     sepal_length  sepal_width  petal_length  petal_width    species\n",
       "145           6.7          3.0           5.2          2.3  virginica\n",
       "146           6.3          2.5           5.0          1.9  virginica\n",
       "147           6.5          3.0           5.2          2.0  virginica\n",
       "148           6.2          3.4           5.4          2.3  virginica\n",
       "149           5.9          3.0           5.1          1.8  virginica"
      ]
     },
     "execution_count": 17,
     "metadata": {},
     "output_type": "execute_result"
    }
   ],
   "source": [
    "df.tail()"
   ]
  },
  {
   "cell_type": "markdown",
   "metadata": {},
   "source": [
    "# Data Visualization"
   ]
  },
  {
   "cell_type": "markdown",
   "metadata": {},
   "source": [
    "## 1)Scatter Plot"
   ]
  },
  {
   "cell_type": "code",
   "execution_count": 23,
   "metadata": {},
   "outputs": [
    {
     "data": {
      "text/plain": [
       "<AxesSubplot:xlabel='sepal_length', ylabel='sepal_width'>"
      ]
     },
     "execution_count": 23,
     "metadata": {},
     "output_type": "execute_result"
    },
    {
     "data": {
      "image/png": "iVBORw0KGgoAAAANSUhEUgAAAtEAAAF1CAYAAAAurLZiAAAAOXRFWHRTb2Z0d2FyZQBNYXRwbG90bGliIHZlcnNpb24zLjMuMSwgaHR0cHM6Ly9tYXRwbG90bGliLm9yZy/d3fzzAAAACXBIWXMAAAsTAAALEwEAmpwYAABkL0lEQVR4nO3dZ3hcxfn38e+o9y7bsmRb7lVyQbZppmOKaQkmOBWbJEDoJBBCCvBAAikQSmgh+SeUUEwMIaGDIQRsii333mVbliyr97bSPC9Wli2thHel1a7K73NdvqRz7zmje49Hq3vPzpkx1lpERERERMR9Af5OQERERESkr1ERLSIiIiLiIRXRIiIiIiIeUhEtIiIiIuIhFdEiIiIiIh5SES0iIiIi4iGfFNHGmEBjzBpjzJsdPHaaMabcGLO25d+dvshJRERERKSrgnz0c24CtgAxnTz+qbX2AncbS0pKsunp6d7IS0RERESkU6tWrSqy1ia3j/d4EW2MSQPmAb8BfuyNNtPT08nOzvZGUyIiIiIinTLG7O0o7ovhHA8DPwWav2KfE4wx64wx7xhjJne0gzHmKmNMtjEmu7CwsCfyFBERERFxS48W0caYC4BD1tpVX7HbamCEtXYq8Cfg9Y52stY+ba3NstZmJSe7XFEXEREREfGZnr4SfRJwkTEmB3gZOMMY84+jd7DWVlhrq1q+fxsINsYk9XBeIiIiIiJd1qNjoq21dwB3gHMWDuBWa+13jt7HGDMEKLDWWmPMLJyFfXFP5iUiIiLS1zU2NpKbm0tdXZ2/U+kXwsLCSEtLIzg42K39fTU7RxvGmGsArLVPAfOBHxljHEAtsMBaa/2Rl4iIiEhfkZubS3R0NOnp6Rhj/J1On2atpbi4mNzcXEaOHOnWMT4roq21HwMft3z/1FHxx4DHfJWHiIiISH9QV1enAtpLjDEkJibiyeQVWrFQREREpI9SAe09np5LFdEiIiIiIh5SES0iIiIiPnX++edTVlbm7zS6xS83FoqI9CRHUzN7iqqpqneQFh9BcnSov1MSEZGjvP322/5Oodt0JVpE+pWqegd/X57D+Y9+ytee+IzL/vwZm/PK/Z2WiEifU11dzbx585g6dSpTpkxh8eLFpKenc/vttzNr1ixmzZrFzp07ASgsLOTSSy9l5syZzJw5k+XLlwNQVVXFokWLyMjIIDMzk1dffRWA9PR0ioqKAPjHP/7BrFmzmDZtGldffTVNTU00NTWxcOFCpkyZQkZGBg899JB/TsJX0JVoEelXNueV85u3t7Ru5xTVcO+bm/nL97KICnNv7k8REYF3332XoUOH8tZbbwFQXl7O7bffTkxMDCtWrOC5557j5ptv5s033+Smm27illtu4eSTT2bfvn2cc845bNmyhXvvvZfY2Fg2bNgAQGlpaZufsWXLFhYvXszy5csJDg7m2muv5YUXXmDy5MkcOHCAjRs3AvTKoR8qokWkX9lfWusS+3x3CSXVjSqiRUQ8kJGRwa233srtt9/OBRdcwJw5cwD45je/2fr1lltuAWDp0qVs3ry59diKigoqKytZunQpL7/8cms8Pj6+zc/48MMPWbVqFTNnzgSgtraWQYMGceGFF7J7925uuOEG5s2bx9y5c3v0uXaFimgR6VeGxIS5xCYPjSE2XC93IiKeGDduHKtWreLtt9/mjjvuaC1kj54K7vD3zc3NfP7554SHh7dpw1r7lVPHWWu54ooruP/++10eW7duHe+99x6PP/44r7zyCn/729+88bS8RmOiRaRfmTw0hkUnprdux4QFcc/Fk4mNCPFfUiIifVBeXh4RERF85zvf4dZbb2X16tUALF68uPXrCSecAMDcuXN57LEja+etXbu2w3j74RxnnnkmS5Ys4dChQwCUlJSwd+9eioqKaG5u5tJLL+Xee+9t/dm9iS7NiEi/EhcRwk/OGc/F04dSUetgRGIEIxIj/Z2WiEifs2HDBm677TYCAgIIDg7mySefZP78+dTX1zN79myam5t56aWXAHj00Ue57rrryMzMxOFwcMopp/DUU0/xy1/+kuuuu44pU6YQGBjIXXfdxde//vXWnzFp0iR+/etfM3fuXJqbmwkODubxxx8nPDycRYsW0dzcDNDhlWp/M9Zaf+fgsaysLJudne3vNERERET8ZsuWLUycONGnPzM9PZ3s7GySkpJ8+nN9paNzaoxZZa3Nar+vhnOIiIiIiHhIwzlERERExC05OTn+TqHX0JVoEREREREPqYgWEREREfGQimgREREREQ+piBYRERER8ZCKaBERERHpcc888wx5eXn+TsNrNDuHiIiIyADw+poD/OG9beSV1TI0LpzbzhnPJdNTffbzn3nmGaZMmcLQoUN99jN7kq5Ei4iIiPRzr685wB2vbeBAWS0WOFBWyx2vbeD1NQe61W51dTXz5s1j6tSpTJkyhcWLF7Nq1SpOPfVUjjvuOM455xzy8/NZsmQJ2dnZfPvb32batGnU1tby4YcfMn36dDIyMrjyyiupr68H4Gc/+xmTJk0iMzOTW2+9FYA33niD2bNnM336dM466ywKCgq6e0q6TUW0iIiISD/3h/e2UdvY1CZW29jEH97b1q123333XYYOHcq6devYuHEj5557LjfccANLlixh1apVXHnllfziF79g/vz5ZGVl8cILL7B27VqMMSxcuJDFixezYcMGHA4HTz75JCUlJfzrX/9i06ZNrF+/nl/+8pcAnHzyyXzxxResWbOGBQsW8Pvf/75beXuDhnOIiIiI9HN5ZbUexd2VkZHBrbfeyu23384FF1xAfHw8Gzdu5OyzzwagqamJlJQUl+O2bdvGyJEjGTduHABXXHEFjz/+ONdffz1hYWH84Ac/YN68eVxwwQUA5Obmcvnll5Ofn09DQwMjR47sVt7eoCvRIiIiIv3c0Lhwj+LuGjduHKtWrSIjI4M77riDV199lcmTJ7N27VrWrl3Lhg0beP/9912Os9Z22F5QUBArVqzg0ksv5fXXX+fcc88F4IYbbuD6669nw4YN/PnPf6aurq5beXuDimgRERGRfu62c8YTHhzYJhYeHMht54zvVrt5eXlERETwne98h1tvvZUvv/ySwsJCPv/8cwAaGxvZtGkTANHR0VRWVgIwYcIEcnJy2LlzJwDPP/88p556KlVVVZSXl3P++efz8MMPs3btWgDKy8tJTXXeBPnss892K2dv0XAOERERkX7u8Cwc3p6dY8OGDdx2220EBAQQHBzMk08+SVBQEDfeeCPl5eU4HA5uvvlmJk+ezMKFC7nmmmsIDw/n888/5+9//zuXXXYZDoeDmTNncs0111BSUsLFF19MXV0d1loeeughAO6++24uu+wyUlNTOf7449mzZ0+3z0l3mc4up/dmWVlZNjs7299piIiIiPjNli1bmDhxor/T6Fc6OqfGmFXW2qz2+2o4h4iIiIiIh1REi4iIiIh4SGOiRcRrymoa2JRXwcGKOtLiwpk8NJaoML3MiIhI/6O/biLiFdX1Dh75cAd/X57TGvvZeRP4/skjCQ7Uh14iItK/6C+biHjFrsKqNgU0wIPvbyOnqNo/CYmIiPQgFdEi4hXltY0uscYmS2Wdww/ZiIiI9CwV0SLiFSMSIogND24TG54QzrCE7q2GJSIiA8edd97J0qVLPT7u448/bl0i3FdURIuIVwxPjOTvC2cyZWgMALNHJvDkd44jOTrMz5mJiAgA61+Bh6bA3XHOr+tf8Usa1lqam5s7fOyee+7hrLPO6vEcHI7uf0qqIlpEvGbGiHhe+OFsPrntdP5vYRaTh8b6OyUREQFnwfzGjVC+H7DOr2/c2K1C+vbbb+eJJ55o3b777rt58MEH+cMf/sDMmTPJzMzkrrvuAiAnJ4eJEydy7bXXMmPGDPbv38/ChQuZMmUKGRkZrSsTLly4kCVLlgCwcuVKTjzxRKZOncqsWbOorKykrq6ORYsWkZGRwfTp0/nvf//rkldJSQmXXHIJmZmZHH/88axfv741v6uuuoq5c+fyve99r8vP+zAV0SLiVbHhIQxPjCAqNPjYO4uIiG98eA801raNNdY64120YMECFi9e3Lr9yiuvkJyczI4dO1ixYgVr165l1apVfPLJJwBs27aN733ve6xZs4aioiIOHDjAxo0b2bBhA4sWLWrTdkNDA5dffjmPPPII69atY+nSpYSHh/P4448DzuXGX3rpJa644grq6uraHHvXXXcxffp01q9fz3333demYF61ahX//ve/efHFF7v8vA/TFHciIiIi/V15rmdxN0yfPp1Dhw6Rl5dHYWEh8fHxrF+/nvfff5/p06cDUFVVxY4dOxg+fDgjRozg+OOPB2DUqFHs3r2bG264gXnz5jF37tw2bW/bto2UlBRmzpwJQEyMc6jgsmXLuOGGGwCYMGECI0aMYPv27W2OXbZsGa+++ioAZ5xxBsXFxZSXlwNw0UUXER7unXt1VESLiIiI9HexaS1DOTqId8P8+fNZsmQJBw8eZMGCBeTk5HDHHXdw9dVXt9kvJyeHyMjI1u34+HjWrVvHe++9x+OPP84rr7zC3/72t9bHrbUYY1x+nrX2mDl1tM/hto7Oobs0nENERESkvzvzTghudwU2ONwZ74YFCxbw8ssvs2TJEubPn88555zD3/72N6qqqgA4cOAAhw4dcjmuqKiI5uZmLr30Uu69915Wr17d5vEJEyaQl5fHypUrAaisrMThcHDKKafwwgsvALB9+3b27dvH+PHj2xx79D4ff/wxSUlJrVeyvUlXokVERET6u8xvOL9+eI9zCEdsmrOAPhzvosmTJ1NZWUlqaiopKSmkpKSwZcsWTjjhBACioqL4xz/+QWBgYJvjDhw4wKJFi1pn6bj//vvbPB4SEsLixYu54YYbqK2tJTw8nKVLl3LttddyzTXXkJGRQVBQEM888wyhoaFtjr377rtZtGgRmZmZRERE8Oyzz3brOXbGuHNZvLfJysqy2dnZ/k5DxGvKaxvIK6sjMiSQ4Yne+6hJRET6ry1btjBx4kR/p9GvdHROjTGrrLVZ7ffVlWgRP9t2sIKfLlnPutxyIkMCufPCyVw0LYXwYP16ioiI9FYaEy3iR9UNDn7z1hbW5Za3bDdx+6vr2ZJf6efMRERE5KuoiBbxo+LKej7ZUeQSzymq9kM2IiIi4i4V0SJ+FBUWzOhk1zHQyVGhHewtIiIivYWKaBE/SogM4d5LphAadORX8evTU5k01PtT8YiIiIj36M4lET87YVQib95wMjnFNcSGBzFucDRxESH+TktERES+gq5Ei/iZMYaxg6M5e9JgZo1MVAEtIiJ9Vl5eHvPnz/f4uPPPP5+ysrKv3OfOO+9k6dKlXczM+zRPtIiIiEgf5Ok80W/tfotHVj/CweqDDIkcwk0zbmLeqHk9mOERDoeDoKDePwDCk3midSVaREREpJ97a/db3P3Z3eRX52Ox5Ffnc/dnd/PW7re63Obtt9/OE0880bp999138+CDDzJlyhQAnnnmGS677DIuvPBC5s6dS01NDd/4xjfIzMzk8ssvZ/bs2Ry+KJqenk5RURE5OTlMnDiRH/7wh0yePJm5c+dSW1sLwMKFC1myZAkAK1eu5MQTT2Tq1KnMmjWLyspKcnJymDNnDjNmzGDGjBl89tlnXX5u7lARLSIiItLPPbL6Eeqa6trE6prqeGT1I11uc8GCBSxevLh1+5VXXmHmzJlt9vn888959tln+eijj3jiiSeIj49n/fr1/OpXv2LVqlUdtrtjxw6uu+46Nm3aRFxcHK+++mqbxxsaGrj88st55JFHWLduHUuXLiU8PJxBgwbxwQcfsHr1ahYvXsyNN97Y5efmjt5/XV1EREREuuVg9UGP4u6YPn06hw4dIi8vj8LCQuLj4xk+fHibfc4++2wSEhIAWLZsGTfddBMAU6ZMITMzs8N2R44cybRp0wA47rjjyMnJafP4tm3bSElJaS3YY2KcM1pVV1dz/fXXs3btWgIDA9m+fXuXn5s7VESLiHwFay3GGH+nISLSLUMih5Bfnd9hvDvmz5/PkiVLOHjwIAsWLHB5PDLyyFoI7t6HFxp6ZK2EwMDA1uEcR7fT0evyQw89xODBg1m3bh3Nzc2EhYW5+zS6xCfDOYwxgcaYNcaYNzt4zBhjHjXG7DTGrDfGzPBFTiIiX2XtvlJuf3U93/2/Fby1Pp/ymkZ/pyQi0mU3zbiJsMC2RWVYYBg3zbipW+0uWLCAl19+mSVLlhxzVo6TTz6ZV155BYDNmzezYcOGLv3MCRMmkJeXx8qVKwGorKzE4XBQXl5OSkoKAQEBPP/88zQ1NXWpfXf56kr0TcAWoKMVJM4Dxrb8mw082fJVRMQvNueVs+AvX1DX2AzAsp1F/O7SDC6fOfwYR4qI9E6HZ+Hw9uwckydPprKyktTUVFJSUlyGXhzt2muv5YorriAzM5Pp06eTmZlJbGysxz8zJCSExYsXc8MNN1BbW0t4eDhLly7l2muv5dJLL+Wf//wnp59+epur4D2hx6e4M8akAc8CvwF+bK29oN3jfwY+tta+1LK9DTjNWuv6mUMLTXEnIj3phS/38ot/bWwTS4sP5z/Xn0RCpJZkF5HewdMp7vytqamJxsZGwsLC2LVrF2eeeSbbt28nJKT3rI/gyRR3vrgS/TDwUyC6k8dTgf1Hbee2xNoU0caYq4CrAJdB6yIi3tTRCOjAAIPp8BEREXFHTU0Np59+Oo2NjVhrefLJJ3tVAe2pHi2ijTEXAIestauMMad1tlsHMZfL49bap4GnwXkl2ls5ioi0N314PJEhgVQ3HBlPd/OZY4mP7Lsv9iIi/hYdHU1/GknQ01eiTwIuMsacD4QBMcaYf1hrv3PUPrnAsKO204C8Hs5LRKRTE1NiePmq43lzQz55pbVcPD2V40cm+DstEREXmkHIezwd4tyjRbS19g7gDoCWK9G3tiugAf4DXG+MeRnnDYXlXzUeWkTEFzLS4shIi/N3GiIinQoLC6O4uJjExEQV0t1kraW4uNijafH8Mk+0MeYaAGvtU8DbwPnATqAGWOSPnERERET6krS0NHJzcyksLPR3Kv1CWFgYaWlpbu/f47Nz9ATNziEiIiIivtDZ7Bw+WWxFRERERKQ/UREtIiIiIuIhFdEiIiIiIh7yy42FItL7lNfWsz63gv0ltaTEhjElNZbkaK3OJyIi0hEV0SJCg6OZl1bk8tt3trbGrjplFNedPorYcBXSIiIi7Wk4h4iwKa+cP76/vU3sL5/uZnNepZ8yEhER6d1URIsIpdUNNDQ1t4lZC8XVDX7KSEREpHdTES0iDE+MYHBM22EbUaFBpCdG+ikjERGR3k1FtIgwZlA0f/zGNEYnRwEwLCGcRxZMY0pqrJ8zExER6Z10Y6GIAHDSmCSevXImhyrqSYwKYYSuQouIiHRKRbSItEqLjyAtPsLfaYiIiPR6Gs4hIiIiIuIhFdEiIiIiIh5SES0iIiIi4iEV0SIiIiIiHtKNhSLdVFpdT05RDSFBAUzWlHC9xsHyWmoamhgSG0ZEiF7qREQ8VVJbQnlDOYlhicSExvgtj4LqAmodtQyOGEx4cLjf8mhPf1lEumHt/lKe+HgXH2wuIDosiBvPGMsFmSkMie09v+QDTYOjiQ82F3DnvzdRXN3AGeOT+cW8SYweFOXv1ERE+ozsgmzu/uxu9lbsZUL8BO468S6mJE3xaQ6NTY18tP8j7vvyPkrqSpiTOofbZt7GyNiRPs2jMxrOIdJFdQ1NvPTlPt7fVIC1UFHr4NdvbWHNvjJ/pzagbc6r4PqX1rQuWf7RtkIeeH8bdY0OP2cmItI37KvYx/UfXs/eir0AbC3dyi0f38Kh6kM+zWNLyRZu+99tlNSVAPDpgU/50+o/Ueeo82kenVERLdJF+0qqeX9zgUt8e0GlH7KRw3YXVWNt29i7mw5yqLLBPwmJiPQxuVW5VDdWt4kdrD5Ifk2+T/PIqcjB0vYFfem+pRTVFvk0j86oiBbpopjwYNI7WNVvUEyoH7KRw+IjQ1xiw+LDiQoJ9EM2IiJ9T2yI6/09wQHBRAdH+zSP+NB4l1hqVCoRQb1jUTAV0SJdNCQ2nBvOHENo0JFfo8lDY5g8VDcX+tOUobGcPiG5dTsowHDvJRkkROnNjYiIO0bFjeKHGT9sE7s161ZGxIzwaR4TEydySuoprdtBJohfHv9LEsITfJpHZ4xt/7lnH5CVlWWzs7P9nYYIAF/uLmZXYRXhIYFMGBzNRBXRfldUWcfm/ErK6xoZnRTJ+CExBAYYf6clItJnVDVUsa10GwXVBaRGpTI+YTxhQWE+z6O4pphtpduoaKggPSadsfFjCQzw7SeLxphV1tosl7iKaBERERGRjnVWRGs4h4iIiIiIh1REi4iIiIh4SEW0iIiIiIiHVESLiIiIiHhIRbSIiIiIiIeC/J2ASF9WVedgRU4xb63PJyU2nHOnDGFKqu+nuDtUWcdnO4tYuuUQmWlxnDVxEKOSozxq40BpLct2FPLpziJmpSdw2vhBDE/sHRPai4iI9Daa4k6kG15fc4CbF69t3Y4ODWLJj05g/JAYn+XQ6Gjm9+9t4y+f7m6NjU6O5B8/mE1KbLhbbVTXO/jZa+t5Y92RJV1nj0zgye8cR0IHKwCKiIgMFJriTsTLSqsb+OMH29vEKusdrN1f5tM89pXU8Pfle9rEdhVWs/1gldtt7CmqblNAA3y5p4Rdhe63ISIiMpCoiBbpImstjqZml7ij2bef7jRjae7gE6Um65pbp2108olUk4+fi4iISF+hIlqkixKiQrn+jDFtYqFBAUwbFufTPIYnRHBZVlqb2JDYUMYNjna7jZGJkcwZm9QmNjElmtEejqsWEREZKHRjoUg3nJeRQlRoEC98uZfU+Ai+e/wIJg/17Y2FoUGB3HTmOCYOieE/6/I4bkQ8849LIy3e/ZsCo8OD+fUlU3h7w0He33SQOeOSuHhqKsnRoT2YuYiISN+lGwtFvKCpqZmAAIMxxq95NDY1ExzYvQ+YHE3NBHWzDRERkf6isxsLdSVaxAsCe0nR2d0CGlABLSIi4gb9tRQRERER8ZCKaBERERERD6mIFhERERHxkIpoEREREREP6cbCAaa8ppHthyqpqG0kPTGS0YP67jzAB8tr2XHIuaLe2EFRDHFzieuj5ZbWsLOgiuCgAMYNjtaUbiIifVReVR67ynYRHBjMmLgxJIUnHfsgkW5QET2AFFfX89t3tvLP7FwAwoMDeWbRTGaPSvRzZp7beaiSq55bxe6iagBGJ0fy9HezPHpTsCW/giv+toJDlfUATB8Wx6PfnMawhMgeyVlERHrG9pLtXLP0GgprCwHITM7kd3N+R1p02jGOFOk6DecYQDYfqGgtoAFqG5v41b83UlrT4Mesuuat9fmtBTTArsJq3tmY7/bxjqZmnv0sp7WABlizv4zPdpV4NU8REelZjmYHL259sbWABlhfuJ4VB1f4MSsZCFREDyCHqupdYtsLqqisdfghm+5ZmVPqEluxx/0CuK6xiVV7XdvYnF/erbxERMS36h31rC1c6xLfWrLV98nIgKIiegAZkeC6DPQp45JIjA7xQzbdc96UIR3EUtw+PiosmHmZrvsf3weHtoiIDGSRIZGcM+Icl/isIbP8kI0MJCqiB5BJQ2P4zSVTCA8OBGDy0Bh+cf5EIkP63tD40ycM4htZaRgDxsDlWWmcNj7Zoza+Nj2VuRMHAxAYYLjqlFHMTE/oiXRFRKQHXTDqAk4fdjoAgSaQhZMXMn3QdD9nJf2dsdb6OwePZWVl2ezsbH+n0SdZa9lbXEN1vYPU+HDiIvreVejD6hubyCmuwRjnVfbQljcHnqhucLCvuIagAEN6YiTBQXpfKSLSF9U01pBbmUtQQBDDoocRHBjs75SknzDGrLLWZrWP971LkNItxhjSk/rH7BOhwYGMHxLdrTYiQ4KYmBLjpYxERMRfIoIjGJcwzt9pyACiy24iIiIiIh5SES0iIiIi4iEV0SIiIiIiHlIRLSIiIiLiIRXRMqA5HM3sKKhkd2FVl9uob3SwvaCCvcXVx965Ew2OJnJLayipdl0Qp6+prG0kt9Q5A4yIiEh/1aOzcxhjwoBPgNCWn7XEWntXu31OA/4N7GkJvWatvacn8xIB2HWokpdW7OfFFfsIDw7kutPHcGFmCskxYW63sSW/nOc+28traw4QHxHCT+aO45zJQ4gJd39qpT1F1Tz+3528vuYAaQnh3H3hZE4ek0RQYN97j7tmXyn3vrmZtfvLOGl0EnfMm8gkzX4iIiL9UE//la4HzrDWTgWmAecaY47vYL9PrbXTWv6pgBafeHdTAX9dtoeahiaKqxu4583NrMhxf+lwh6OZxSv389LK/dQ7mjlYUcdtS9az0oM26h1NPLx0O0tW5eJotuQU1fD9Z7PZnF/RlafkV/tLalj0zEpW7yuj2cKnO4u49oVVFFb2/avrIiIi7fVoEW2dDn9OHtzyr++t7iL9Tkl1PW+sy3OJL9tZ5HYb+0treGNdvkt8iwcFcEG5ax5NzbZbw0v8ZW9xNWU1jW1iOUU17C+p8VNGIiIiPafHPy82xgQaY9YCh4APrLVfdrDbCcaYdcaYd4wxkztp5ypjTLYxJruwsLAnU5YBIDwokKFx4S7x1A5inYkKDWJIrOvQj/hI91eBDA8JIDk61CXuyXCQ3iI6zDXnoABDdJjWdBIRkf6nx4toa22TtXYakAbMMsZMabfLamBEy5CPPwGvd9LO09baLGttVnJyck+mLANAeGgQi05KJyz4yK/A4JhQTh6T5HYbyTFh3HzWWIICTGtsVFIk04fFud9GdBj3XDQZc6QJZqUnMGlorNtt9BajB0VxxQkj2sRuOXss6Yn9Y4VMERGRoxlrfTe6whhzF1BtrX3gK/bJAbKstZ1+rp6VlWWzs7N7IEMZaFbmlLDtYCXBgYYpQ2OZnOpZ8epwNLNybwk7DlURERzIlNQYJqR41kaDo5nNeeXsLKwiLiKEyUNjSIl1/4p4b1Ja3cCmvHLyyusYnhDO5JRYovvgVXUREZHDjDGrrLVZLvGeLKKNMclAo7W2zBgTDrwP/M5a++ZR+wwBCqy11hgzC1iC88p0p4mpiBYRERERX+isiO7pwYopwLPGmECcQ0desda+aYy5BsBa+xQwH/iRMcYB1AILvqqAFhERERHxtx4toq2164HpHcSfOur7x4DHejIPERERERFv6nurOYiIiIiI+JmKaBERERERD6mIFhERERHxkFZBGGB2F1axfFcR+4prOHlMEseNiCeqg0UyetqXu4v5dEcRtY0O5oxNZvbIBMJDfNsdq+sdrMwp4dMdhYQHBzFnbBKzRyV61EZdo4PV+8r4dHshSdFhzBmbxLjB0R61UVnbyOp9pSzbWcTwxAhOGp3EqOQoj9rwht2FVazYU8K6/WVMGhrDrJEJjB8S4/M85CjNzZC3BnZ96NwefSYMnQ4Bvr3+UeeoY33hepbnLSc5PJnjU45nTPwYj9qoaqhiXeE6vsj/grSoNGanzCY9Nr1nEhYR8QGPprgzxpwIpHNU8W2tfc77aX01TXHXNftKavjWX74gt7S2NXb/1zL45uzhPs3ji93FXPnMSmoamgAIMPDUd45j7uQhPs3j/U0Hufofqzj8KxAREsjfF870qJB+Z2M+P/rH6tbthMgQXrn6eMYMcr+QfuGLvfzi9Y2t28Piw3nhh8czPCHC7Ta6q6ymnrv+s5l/rz2yBPnJYxL5w/yppHiwiqN42f4V8Mz50NSynHpgMCx8G4bN8mkaS/cu5ZaPb2ndjg+N55lzn2FU3Ci323hl2yvc+8W9rdtpUWn8Ze5fSItO82quIiLe1tkUd25fzjDGPA88AJwMzGz559Kg9F6b88rbFNAAv3tvKwfL63yax/+2HWotoAGaLfx9+R5q6ht9lkN1fSN/W76Ho99D1jQ08cn2Ttf4cVFe08AD721rEyupbmDt/jK328gvr+V3721tE9tfWsvmvAq32/CGbQer2hTQAMt2FrP1YKVP85B2Vj93pIAG5/drXvBpCuX15Ty6+tE2sdL6UtYXrne7jYLqAh5Z/UibWG5VLltLtnZyhIhI7+fJ5+dZwCTN4dx3NTiaXWK1DU04ml3jPamq3tFBrIlGH6bR2GQ7ycP9Qr6zNuo8eCJNzZa6Btf9G5uaOti759Q7Ov55DZ3ExUdqSl1jtR3EepCj2UG1o9olXt9U73YbTbaJWketS7yx2XdvnEVEvM2TgXUbAd9+3i5eNX5IDOHBgW1ii05K9/kS06eNH4QxbWPfmjWcWB8uDx0XEcI3Z7UdxmIMnDo+2e02kqJDueqU0W1iwYGGzDT3l/1OiQ3nihPT28QiQgIZN9i3Y5HHDopiaru8hydEMNbD8d3iZcdd4Rqb8V2fppAYnsjCyQvbxIICgpiSNMXtNgZHDObbE77dJhYeFM7YuLHeSFFExC+OOSbaGPMGYIFoYBqwAmi9BGGtvagH8+uQxkR33Zp9pTz9v93sKKxiwcxhzMtM8XkRXVPfyP92FPF/n+6htrGJb88ezukTBvk8j7yyGj7aWsiLX+4jIiSQ788ZySljk4gMdb+YL6qq5/1NB3n2s72kxIbxo9NGMzM9gYAAc+yDW+SX1fLmhjwWr8xlbHIUV506iunD47vylLplfW4Z/8zez2e7ipk2LJ5vHz+cGX7IQ45SXw27/wvLHgIMzLkFRp0GIZE+TaO4tpiP9n3ES1tfYkjkEK6cciUzBs8gwLh/HeZg9UHey3mP13a8xqjYUSyasojM5MwezFpExDs6GxPtThF96lc9bq39Xzdz85iK6O5pcDRR72gm2g+zchytoq4Bh8OSEBXq1zxKquoJCjTEhId0uY2qukZCggIICQo89s6dqKxtJDS4e210l8PRTHFNPQkRoQQHaQbMXqOhxvk1xHc3m3akuqGa4MBgQgK7/rtS2VBJWGAYwYH+ff0REXFXZ0X0McdEHy6SjTG/s9be3q7R3wE+L6Kle0KCAv1aqB0WE9b1P8Te5I0i3hvTBEb7cDhLZ4KCAhgco9k4eh0/F8+HRXrhCnh0iIYIiUj/4MmlprM7iJ3nrURERERERPqKY16JNsb8CLgWGGWMOXpOo2hgeU8lJiIiIiLSW7kzxd2LwDvA/cDPjopXWmtLeiQrEREREZFezJ0iOhCoAK5r/4AxJkGFtIiIiIgMNO4U0atwTnFngOFAacv3ccA+YGRPJSfS0w5V1LGrsJrgQMOYQVHERXh+s2NeWS05xdWEBwcyZlCU32c9Eemtcou2sL9iLzEhsYxMmEBExMCdQrGyvpJtpdsoqitiWNQwJidN9ndKIuIhd2bnGAlgjHkK+I+19u2W7fOAs3o2PZGes72gkmueX8XuIudqbKePS+bXX8sgNd792Sk25ZWz6O8rOVTpnDr90hmp/Oy8CSRHh/VIziJ91drc5Vz36U+paHAuaX/F2Pn8MOMqYqNT/JyZ75XUlfDi5hd5esPTWCzhQeH8ds5vOWP4Gf5OTUQ84MnsHDMPF9AA1tp3gK+cQ1qkt2putrz45b7WAhrgv9sL+XJPsdtt1DU28fAH21sLaIBXVx9g3f5yr+Yq0tdVVB3kN9kPthbQAM/uWMLW4o1+zMp/thRv4c8b/ozFuU5DraOW+768j5zyHP8mJiIe8aSILjLG/NIYk26MGWGM+QXgfsUh0ovUNDhYvrPIJb4ut8ztNipqG1m5t9QlnlNc3cHeIgNXeV0JW8t3uMQP1RzyQzb+19HzLqgpoKROtxiJ9CWeFNHfBJKBfwGvA4NaYiJ9TmRoEGdNGuwSzxqR4HYbsRHBzBmb5BIfMyiqW7mJ9Dfx4clMS3Ad8zs0cqgfsvG/jp53WnQagyIG+SEbEekqt4toa22JtfYma+30ln83aWYO6auMMVyWlcZxI47c2PSNrDRmjXS/iA4NCuSGM8YyfohzBbYAA1efOoqpaXHeTlekT4uKTOaOrJ+0Fo9BJohbMq5ifPIUP2fmH5MSJ/HTmT8lJMB5I3NiWCK/mv0r0qLT/JyZiHjCWGu/egdjHrbW3myMeQNw2dlae1FPJdeZrKwsm52d7esfK/1QWU0DOcXVBAcEMCo5ivAQz5dDL66qZ19JDeHBgYxMjiS0FyypLtIbFZbuIa9yH1EhMQxPnEBw8MBdYr7B0cC20m2U1pWSGp3K6LjR/k5JRDphjFllrc1qH3dnirvnW74+4N2URPwvLiKEaV2Y1u5oiVGhJEaFeikjkf4rOX4kyfGaFRUgJCiEjOQMf6chIt3gzhR3q1q+DQS+sNbW9GxKIiIiIiK9mztXog9bCDxljCkGPm35t8xa6zo9gYiIiIhIP+Z2EW2t/R6AMWYoMB94HBjqSRsiIiIiIv2B2wWwMeY7wBwgAygCHsN5NVpEREREZEDx5Cryw8Au4Cngv9banJ5IqD+rbWiioq6RuIhgv87gUFnXSG1DE0lRoQQEmC61cbCilrqGJtKT+v6cyEWV9QQGGuK7eYOhSIdqSqDZAVGaA9gbGhtrKa3OJyo0nojw+GMf0IGGpgbK6suICYkhLCjMyxn6VlVDFbWOWhLDEwkwniz9cERFQwUNjgaSIlznvXdbL+nnxbXFBJpA4sLi/JqHDAyeDOdIMsZMBk4BfmOMGQtss9Z+t8ey60c25ZXz0Afbyd5byqnjkrnu9DGMGxzt0xyamy1f7inmd+9uZV9JLfOPS+O7x49gWEKE221U1zv4eNshHvlwB6XVjcw/Lo1Lj0tlzCDfPhdvKKqq5z9r8/jzJ7uIDA3iJ2eP54wJyYSHaISSeEFDNez4AD66Bxpr4cQbYcp8iEr2d2Z91t7CjTy75R+8n7eM8TGjuCnzGjLTTvSojZ2lO3l6w9N8lvcZ05Onc+20a5mYOLGHMu45zbaZ7IPZPLz6YXIrc7l4zMUsGL+A1OhUt9tobGrki/wveHj1wxTXFvPNCd/kkjGXMDjSdSGqTvWSfl5SV8Jbu9/imU3PEBEUwQ3Tb+CUtFP6/Jsk6d2OOU90647GxAAnAafiHNaRhHO2jit6Lr2O9bV5og+U1nLJE8sprKxvjU1MieaFH8wmIdJ3U6Ntzivn4seX09h05P/827OHc/dFkwkOdO8Kxv+2FbLwmRUc3W2uPW00Pz13grfT7XEvr9jHz17b0Cb24g9mc+KYblyNETls98fw3MVtYxf9CWZ8zy/p9HXVNUX85JOfsrxgZWssMjiSl8/+C+luThVXWlfK99/7PjvKjixBnhyezIvzXmRI5BCv59yTtpZs5ZtvfRNHs6M19o1x3+Bns39GcECwW22sO7SO777zXexRS0DcOP1Gfpj5Q/cT6SX9/NXtr3L353e3if117l+ZnTLbp3lI/9TZPNGefPazDLgQWA9cbq0d748Cui/KKa5uU0ADbMmvZF+Jb2cL3F5Q1aaABli8cj8FFXVut7HxQDnt33ctWZVLTnG1N1L0mep6B899vtcl/t9th/yQjfRL2993ja34CzRoltCuyK/Y26aABqhurGZP2S6329hfub9NAQ1QWFvI3grX14LeblfZrjYFNMBrO17jULX7r2Gbije1KaABXtr6EsW1xe4n0gv6eU1jDS9tfcklvuzAMp/lIAOTJ8t+Z1prr7XWvmitzW3/uDHmT95Nrf8ID3Yd/xxgIKyDeE+KDHX9efERIYQEuf9eKjrcdahDYlQIkT5+Lt0VFGhIiXX9mG9wjD76Ey/paGxobBq4eZVQ2goJDCMs0PX3MyLI/eFoYYFhHY4bDg/qeysndvS8Y0NjCQ10/9PN6BDXYXhJ4UmEBHpwf0gv6OdBAUEdDkFJCtenitKzunYXQsdO8mJb/cqYQVF8fXrbcWpXnzKakUmRPs1jckosk1Ji2sR+deFEBkW7XzhOHxbH0KOKzwADN5wxluQ+VnyGBgVy9amjCA48cmNlfEQwc8bqRVe8ZOzZcPSNb4HBzvGiQSqiuyItYTw3Tr6yTeyE5OmMTXB/KNmImBFcMantB6gXj76YUbGjvJKjL01InMD4+PFtYrfPut2jmwMzkzIZGjW0dTvABHDjjBs7LK471Qv6eUhgCFdOuZKggCMXeeJC4zhxqGfj5UU85faY6GM2ZMxqa+0MrzR2DH1tTDRAYWUda/eXs6+kmjHJUUwdFkecH2aD2F9Szdr95RRV1TMpJYapw2IJC/bsRrr1uWWs219GZZ2DyakxzEpP6JM34zU3WzYeKGf9gXLCggOYmhbHWB/f7Cn93KGtcGAVOOpg6AwYOg1M12bEEaiqOsTGwnXsKNvJkIjBZCRlMCRxrEdtlNWVsbFoI7vLdzM8ZjhTEqd0b1YKPzpQeYANRRsoritmfPx4piRN8fhGur3le1lftJ6qxiomJUxiUtIkt8dUt+oF/bzZNrO5eDObizcTEuBcUn103Gif5iD9V2djolVEi4iIiIh0whs3Fh7zZ3ixLRERERGRXsubRfQjXmxLRERERKTXOuZAVmPMG0CnYz6stRe1fH3Ge2mJiIiIiPRe7twN9kCPZyEiIiIi0occs4i21v7PF4mIiIiIiPQVbs9LZowZC9wPTAJa59Cx1va9CTYHsL3F1azZV0ZBRR1Th8UxNS3WL9PTbT9Yyap9pdQ7mpk+LI6M1FgCAjy7N/XL3cWs2VcGwPThccweldgDmYpIb1HRUMHGwo1sLdlKanQqmUmZpESl+DutLskv2MD6ki0cqM5jQvw4MhIziI4b5vM8NhasYV3xRiobqpiSOInjkmcQHqapPkXc4Un19HfgLuAh4HRgEZqRo085UFrDVc9ls62gqjX20OVT+dr0NJ/msSW/ggVPf0F5bSMAQQGGF34w26MiePnOIr7/7ErqGpsB56qQf70ii5PG9M35XkXkqzXbZl7b/hoPrnqwNTZr8Cx+f+rvSQzvW2+gi4u38/OVvyW7eH1r7NaMa/hu5g8JCPLd+gEbC9Zy8ye3UVBTAIDB8Ps5v+PcUef5LAeRvsyT2TnCrbUf4pxbeq+19m7gjJ5JS3rCxryKNgU0wG/e2sKhijqf5vG/bYWtBTSAo9ny9Ke7aXA0ud3Gv9bkthbQALWNTfx77QGv5ikivcf+yv08tvaxNrEVBSvYUbrDTxl13fbSHW0KaIDHNj/DgaLNPs1jQ/Gm1gIawGL5y8a/Ulih11IRd3hyJbrOGBMA7DDGXA8cAAb1TFrSE2obXIvU8tpG6puaO9i75xRW1bvEDpbX4Wi2uHsNprDStY2OYiLSPzQ2NVLf5Po7XttU64dsuqfO4ZpzXVMdDc0NPs2jqrHaJVZWX9ZhfiLiypMr0TcDEcCNwHHAd4EreiAn6SHjBkcREtj2v/xbs4YzJMazZWK764wJru+9Fp6YToQHY7MvnpbqErtw6tBu5SUivVdKVApzUue0iUUFRzEqtu/dljMydhSRwZFtYqemHM/Q2HSf5jEpYQIBpu3fhEtGX8ywhDE+zUOkr/J42W9jTAxgrbWVPZPSsWnZ766x1rIip4QH399OTlE138hKY8Gs4aTFR/g0j9oGB59sL+LBD7ZR09DENaeO4vyMFBIiQ91uo6Cilvc3FfB/y/ZgjOH7J6czd+JgBsWG92DmIuJPeyv28uKWF3kv5z0mJk7k2qnXkpGc4e+0umRD7nKe2PQ3tpTt4tyhc/jW2EsZPmSaT3Oobahied5ynt7wf5TUlXDJmIuZN+xsRiZN8GkeIr1dZ8t+u11EG2OycN5cePi23XLgSmvtKq9l6SYV0d1TXe+gtqGJxKgQjPHfvaEVtY04mps9Kp7byyurAWBonG/fCIiIfzQ1N1FaV0pUSBRhQb79FM3baquKqK4vIT5mBIHBXX8d7K6iyoPUOapJix/ttxxEerPOimhPxkT/DbjWWvtpS4Mn4yyqM72TovhKZGgQkaG+n9auvZjw4G63oeJZZGAJDAgkKaJ/zMITHpVEeJT/n0tS9BB/pyDSJ3kyJrrycAENYK1dBvhtSIeIiIiIiL94cjlyhTHmz8BLgAUuBz42xswAsNau7oH8RERERER6HU+K6GktX+9qFz8RZ1GtOaNFREREZEBwu4i21p7ek4mIiIiIiPQVbhfRxpjBwH3AUGvtecaYScAJ1tr/67HsepG9xdUUVNSRFBXKyKRIj2e1aG625BRXU1RVz5CYMIYnRh77oH6suKqebQcraWxqZuzgqC7dIFhR28ieoirAMDIpsks3KpZWN7CnuJrgwABGJUX2ihsu/apkD1TmQ+QgSBwN/pi9pbEeCtZDVSHEj4TBEz1vw9EAxTugrgLi0yEmxetpuqO6ppi9pdtxNDUyPH4McdGez2VeWV9JTkUOxhiGRw8nJjTG4zbKKvPYW7qT4MBgRsSPIzKiby2T7W0bCjdwsPogSRFJZCZmEhgY6FkDzc1QshuqD0F0CiSM9DgHR2M9+0o2U1ZbQkr0MFISx3ncRmNTIzkVOVQ2VJIWncagiL67/plX+nldGXsr9xIcEMyImBEuc3EPNPsr93Oo5hCJYYmMiBnhed1im9lXsY/iumIGRQxiWPSwHsq07/KkYngG52wcv2jZ3g4sBjotoo0xYcAnQGjLz1pirb2r3T4GeAQ4H6gBFva28dUfbzvEDS+uobLeQXhwIL+fn8n5GSkEBrjXIR1Nzbyz8SC3LVlHXWMzMWFBPPrN6Zw2vu++4HXHjoJKHvxgO+9uPAhARmoMv/laBplpcW63sb+khl++voH/bS8C4PTxydxz8WSGJbj/orm7sIofv7KOtfvLAPja9FR+du54Bg/UuaZ3fABLroT6CgiOgIsfh0kXQ4CHBUZ31JbB6ufgo3uhqQEik+CSP8PYs9xvo64CVvwZPr4fmpsgJhUWvAhDp/VU1h0qKNnJw2sf4839HwKQmTCJ38z+JemD3J/XOLcyl19/8WuW5y0HYE7qHH4x+xekRrsuNtSZnEMb+PkX97KhdAsAFw4/i5unXs+ghIE5ndm7e97l/33+/6hqrCI8KJyfzvwpF6RfQFiIm9PlNTlg87/hP9dBYy2ExcKl/wdjz3Y7h7q6Cv69Ywm/W/sYjc2NJIQl8NCJ9zJj2Clut1HVUMWLW17kiXVP0GSbGBwxmEfPeJRJiZPcbqO38Eo/L8/h58t+zoaiDQBcOOpCbj7u5j79xqI7Ps39lJ9+8tPWfn7Pifdw9oizCXTz9dzR7OCDvR9w5/I7qWuqIzo4mt+f+ntOTj25hzPvWzyZnSPJWvsK0AxgrXUArutIt1UPnGGtnYpzTPW5xpjj2+1zHjC25d9VwJMe5NTj9pXUcONLzgIaoLaxiZ+8so7dhVVut7G7qJofv7KWukbn8toVdQ5ufHkN+0tqeiTn3u7L3cWtBTTAhgMVLFmVS3Oz+8uPv7+5oLWABvjvtkKWbjnk9vHWWhav3N9aQAP8a80BvthT4nYb/UppDrz6fWcBDdBYA/+6Goq2+zaP/LXwwa+cBTRAdRG89WPnFXJ3HVwPH/3aWUADVByAd253Ftc+tLJgZWsBDbC+ZDP/2vVvrAf9/OP9H7cWFgCfHviU/+b+1+3jbXMzr+58vbWABnhj31KyC1a63UZ/srFwI/d8fg9Vjc7X71pHLfd9eR8bSza630jxDnj9amcBDVBXDq/+wPk75KadRRv59eqHaGxuBKCkroRffHkfxWV73W5jS8kW/rT2TzRZZz8vqCngt1/+lqoG9/829Rbd7ufW8uqOV1sLaIA3dr9B9sGBuZ5EbmUut39ye5t+/vNlPyenIsftNg6/KalrqgOgsrGS2z+5ndzK3J5Iuc/ypIiuNsYk4ryJkJZiuPyrDrBOh3+jg1v+tV/d5WLguZZ9vwDijDH++ey1A4cq6qioc7SJNTQ1c7C8zu02DpbX0djU9mlX1Do4VFnvlRz7mjVHFa6HfbG7mNKaRrfb+GhrgUvsv1vdL6Kr6h182MH+q/eVut1Gv1J50FkMHK2pwTm0w5fK9nUQ2+tZHh21sf8LqPHtG6S1hRtcYp8cWkVNnft97OP9H7vEPs391CXWmeraEj455FpIrC3e5HYb/UlBTQGVjW1nZm1sbqSgxvX1pFMVedDU7rWqrgyq3G8jvyrPJZZbfYDi2kK328irdm1jTeEayurL3G6jt+h2P2+s5pPcT1ziawvXdj2pPqywprDb/bygpgBHc9vap6KhgqLaok6OGJg8KaJ/DPwHGG2MWQ48B9xwrIOMMYHGmLXAIeADa+2X7XZJBfYftZ3bEmvfzlXGmGxjTHZhofsvNN2VHB1KVLtxskEBhkEx7q+UNSgmlKB2Qz+iQ4NIigrxSo59TUZqrEssa0QCsWHuj2k+dVyyS2zOWNdYZyJDgjilg/2neTCkpF+JGgSh0W1jAUHg60UYYtNcYzGpzjHa3WkjNQvC47ueVxdkdPCx+olJUwkPde3/nTkp9STXNoae6PbxEWFxnJg0zTW3hC6MM+8HkiOSXcbJBpkgBkcMdr+R6BTn78bRQmM86qNDIl2vEw2OGEx8mPtj1VMiXNvISMogJsTzscT+1u1+HhzR4f4ZSX1zSfjuSgpP6rCfDwp3v48OihhEkGnbz6OCo0gMH9j3U7TnSRE9GufQixOB94AduDGm2lrbZK2dBqQBs4wxU9rt0tHAYpe1yK21T1trs6y1WcnJ7hdL3TUiMZIHvzGVsGDnqQoONPz20kxGJbs/9nZ0chT3fz2D4EDnUw0LDuCPl09lxAC9ufCE0YnMGXtkla7RyVFclpVGUJD73fGcSUM4bnhc63ZWejxzJ7v/hzAgwPDN2cMYNziqNXb2pEHMHjVAXyASRsElT0Fwy3jwwGC46E+QONa3eQyZCqfdAaalL4TGwPkPQNIYD9rIhJNvOXJTZGQSnPc7CHe/ePWGWUNmcdqQI6PXxsaM5NIxXyMg0P1bUc4cfibTkqe1bs8YNIMzhrs/m2hAYBDzx36dMTFHbnw7PeUEZg52Wb12QMhMzuTns35OWKDzIkhQQBC3zbyNCQkT3G8kaSxc+KjzdwScvzNfe8qjmwvHJE3k1sxrCGjp51HBUfxm1s9Jjne/jQkJE/j+lO9jWv6EJoQlcMesO7p0Q56/dbufmwDmj5vPmNgjrxOnDzudmUNmejPNPmNYzDDuO/m+Nv387hPvZkTsCLfbSI9N564T7yKo5Q1jWGAYvzn5N7q5sB1jrUu92vGOxqy31ma2LPd9H/Ag8HNr7Wy3f5gxdwHV1toHjor9GfjYWvtSy/Y24DRrbaef32ZlZdnsbN+NdWputuwpquZgRR3J0aGMSookKNCT9x/Omwt3F1VzqLKeobFhpCdGEuDmjYn90cHyWra2zM4xbnB0l95QlFQ3tI5NH5UcRUKk51f2Cyvr2F3knJ1jdHIUsV5YirzPam6G4p3OoRNRg5wFtAcFn9fUVULBBufsHAkjISXT8zYaapzjuesrnDN8xPnnhb+i6iB7WmbnSI8bQ2Kc+3/EDiurK2NPhXNMeHpMOvFhnl9RLyrbS06Zc3aOkfHjiIkauMs8NzQ1sKloE/k1+QwKH8SkhElEhHg4O1CTwzk2uqrA+UlJwmgI8OxvQkN9FXtKtlBaW0xq9HCGJXt+Q2Cdo47d5bupaqgiLTqNoVGez/7SW3iln9cUkVOR4+znMSP75BsKb2m2zeyt2EtBTQFJYUmkx6a3FsTucjQ7yCnPoaiuiCERQxgeM7z1jd9AY4xZZa11ufrgSRG9xlo73RhzP7DBWvvi4dhXHJMMNFpry4wx4cD7wO+stW8etc884Hqcs3PMBh611s76qlx8XUSLiIiIyMDUWRHtyduSAy1Xjc8CfmeMCeXYw0FSgGeNMYEt+75irX3TGHMNgLX2KeBtnAX0TpxT3C3yICcREREREZ/z5Ep0BHAuzqvQO1pm0Miw1r7fkwl2RFeiRURERMQXun0l2lpbA7x21HY+4OP5r0RERERE/G9gjhAXEREREekGFdE+1NjUTHlNA03N7g2hERmwHA1QUwpuDjfruI165zLi/UF9lfNfd9RVOmct6VYbFdBQ260mKuorqHd0Y6Epa519w9HQrTy6ranRmUfzsRbulb6msqGSOof7C6rJwOWH+asGpm0HK/nbst18vruEsyYO4tvHj2B0ctSxDxQZaPLWwvKHnV+nXArTvwsJ6Z61sf9L+ORB5zRkM74HGZd1vAhLb1dfCTs/hE8fdG6fciuMPhNCPXjtqCmFbW/DZ486590+9aeQfgoEh7rfRmUBbPk3rHjaudjIKT+FESdCQKDbTeRX5fPWnrf4145/MTJ2JD/M/CFTk6e6nwM4l39f8zxsfA2GToeTboKh0zxrwxsKNsMXT0DOMhh3Lsz8vnP+aOnTimqK+GDfB7y05SWSI5K5OvNqjht8HIEe9HMZWNy+sbA36Ws3Fh4sr2X+U5+TW3rkCs6M4XH8beFM4iIG5qqFIh0q3g1/PQNqj1oae/LX4OInISTcvTYKNjvbaDzqiukJN8DZ/8+joq9X2P4uvHh529i3/gnj5rrfxrrF8K+r2sYWvg3prqvEdeqzP8H7vzyyHRAE3/8AUme4dbij2cEfV/2R5zc/3xoLCwzjxXkvMjbezeKzoQb+dY2zmD8sPB5++F+PFjrptoo8+Nu5zuXoD0ub6fx/ifDtqpjiXc9uepYHsluXsSDIBPH8+c8zJan9GnEy0HR2Y6GGc/jA7qLqNgU0wOp9Zewt7uZHqyL9TeHWtgU0wObXoXxvh7t36NDmtgU0wMqnofxAt9PzuVXPucZWdxDrTEO184ppezs8mFSp6hB8/ljbWLMDDqx2u4mC6gJe3vpym1hdUx07y3a6n0fZ3rYFNDj7SuFW99vwhuKdbQtogNyVULrbt3mIVxXXFvPspmfbxBzWwcaijX7KSPoCFdE+ENrB6obGQEjQwF2xUKRDQWGuscAQCPBgJcnADoYphEQeWaa5L4lMco1FJbt/fEAQRCS4xsM9uGIaGOIcBtKeB6v8BQUEERHsun9oR/9XneYRDEEd7N9Rn+lJHeVsTMdx6TOCA4KJCnYdJhUe5OYnYDIgqYj2gTGDojh74qA2se/MHs7IJM+Xuhbp1wZPgtTj2sZO+SnEp7vfRkomxI9qGzvrHohJ6XZ6Pjfju84i9rDAEJj2LfePDwqFk26Bo5fqDY12jqt2V3gcnHVX21hksnMIg5sGRw7mlhm3tImNiB7B+Pjx7ucRPxLm3No2lpoFgzxfLrtbksfB+PPbxrJ+AImjfZuHeFVMaAw3H3dzm1hiWCKZyZn+SUj6BI2J9pG8slqyc0rYkl/B1GFxHDcinuRoH19BEekLSvfC3uVQtAOGzXb+83SsafFO501fZfsg/WRnwRca3TP59iRrIW8N7PnEuT3qVEiZ5rzy6a6mRshbDbv/57x6PPJUGJLhWR6NtXBgFez+xHklfOQcSJ7gURNVDVWsL1pP9sFsUqNSyRqcxYjYEZ7lUVMC+1c4bxxNGgsjToJ4D9vwhvJc2PclFGxwvukbNguiBvs+D/GqOkcdG4s28mX+lySGJzJzyExGx+nNkXQ+JlpFtIiIiIhIJ3RjoYiIiIiIl6iIFhERERHxkIpoEREREREPqYgWEREREfGQimgREREREQ8F+TsBEZGjFdYUsrl4M8W1xYyIHcHEhIkdLtTxlQ5tcU4NV1cOSeNg2PEQ6tm87LmVuWwu3kyNo4axcWOZkDCBwL62bPhhe5c7l0MPCHbOo+3mct2HNTU3saVkCzvLdhIZHMmkhEmkRqd61EZDUwNbirewu3w3MaExTE6czJDIIR61UVJXwvpD69lftZ+E0AQmJ00mPTbdozaoLYP8tc7pD2OGOqcM7GhRm76gPBfy1jqfU/I453MJCjnGQdKTvNHPe4vS2lI2FW+ioKaAtOg0JiZOJCakg4WXBjAV0SLSa5TUlXDPF/fw8f6PW2N3Hn8nl42/zP1GDm2Ff13jLJTAOafyxU/CtG+63cT+yv1cu/RacipyAAgyQTx19lPMTpntfh69xa6P4KVvgqPOuR01GBa84NFiKSsPruSapdfQZJsAGBUzisfOfIxhMcPcbuN/uf/jxx//uHV7WvI0Hjj1AQZHuje/cnNzM//Z+R8eXPVga+ykoSdx5wl3MjRqqHtJOBrgy6fg4/uPxLJ+AGf/Pwh1Xa2uVys/AP9cBLkrnNvGwGXPwaSL/JvXANfdft5bVDVU8ac1f+KfO/7ZGrtu2nV8f8r3Ce6Lq7/2EA3nEJFeY0fpjjYFNMAD2Q+QW5nrfiP5644U0OBcsOSje6Bkj9tNrC9c31pAAzisg4dXP0xVQ5X7efQG9TXwxZNHCmiAqgLY9V+3m6hsqOShVQ+1FtAAuyt2s6Fog9ttFNYWcv+X97eJrS1cy9aSrW63sb10O0+se6JNbHneco/aoHgnfPL7trHsv0LRdvfb6C0Orj9SQIOzn797O1Qd8l9OA5w3+nlvsbt8d5sCGuCpdU+xt2KvnzLqnVREi0iv0VGRWuOoodZR634j9RUdNFwAjdVuN1FSV+ISy6/Kp+7oYrQvcNRAxQHXeHkHsU7UNdVxsOagS7y0rtTtNuod9RTXFbvEKxsq3W6js37gSRs0VEFzk2u8roM+09t1lHNVgXN1SfELb/Tz3qK6g9fLJttEtcP919GBQEW0iPQaI2NHEhYY1iY2a8gs9z+uB+dy1O3HLk+6BOJGut3ElMQpLrHLxl1GYnii+3n0BpFJkPEN1/jo091uIiksiflj57vEJyZNdLuNQRGDmDdyXptYoAlkVNwot9sYHjOcacnT2sTCg8IZFet+G8SnQ+KYtrHIJEjsg0s7J4937eeZCyA6xT/5iFf6eW8xPHo48aHxbWIjY0YyLMr9IVwDgYpoEek1RsWN4qmzn2JSwiRCAkI4b+R5/OL4XxAZ7MFNgcNmw/xnIGksBIVB5uVw0s0e3Vg4KXESD532EKlRqYQHhbNo8iK+PvbrGGM8fk5+N+ECOOkWCI2B6CFw/gMw4kS3DzfGMH/8fBZOXkh4UDipUak8fNrDHb7R6ExIYAjXTLuGS8deSmhgKKNiR/HEmU8wPn68220khSfx01k/5bRhpxESEML4+PH88dQ/kpGc4XYbRA2Cy56FsXMhMARGnAzf+ifE9cHCYEiGM/ek8c5+PmMhnHKbbiz0I2/0894iNTqVJ856guMGH0dwQDBzUufwwKkPkBCe4O/UehVjrfV3Dh7Lysqy2dnZ/k5DRHpIRX0F1Y3VJIQlEBoU2rVGynOhvgriR0BweJeaKKktoaG5gUERgwgwffiaQ3MzlOx0zs6R4P4V+aM1NTdRWFtIaGAo8WHxxz6gA43NjRTVFhERGEFsWGyX2qiqr+JgzUFiQ2JJjkzuUhs01EBNCYTFQlh019roLWpKoLHGecOobvjqFbzRz3uL6sZqKuoriAuLIzyoa6+j/YExZpW1NsslriJaRERERKRjnRXRffjSioiIiIiIf6iIFhERERHxkIpoEREREREPqYgWEREREfGQlv0W6Q2qi6FsH4RGQ8IoCBjA72+thdI9UFsGsanOWQf8oLa+kh0lW6ltqmdkVBqD4tL9kgcNNUdWW0wYCSER/snDC0rrSsmryiMyOJLhMcO7NONJUW0RB6sPEhsay7DoPjg1nYj0GyqiRfzt4EZ49ftQuNU53+vcX8PUb3k0r3G/4WiAza/Dm7c4V5eLS4fL/gapx/k0jfzinby4+3X+seUFHNbBlMQp/CLrNqYMmeHTPCjbDx/eCxsWO7czL4cz74TYNN/m4QXbSrZx+6e3s6tsF6GBofwk6ydcPPpiIoLdf1OwoXADt/7vVvKq84gIiuDOE+5k7oi5BGtqNxHxgwF8uUukF6ivhHfvcBbQAI46ePtWKNjg37z8pXAL/OsqZwENUJYDr10N1UU+TWND+Xae2fwsDusAYGPxRp7f9jK1tT5eHnrH+0cKaID1i2H7+77NwQuqG6v5/crfs6tsFwD1TfXc9+V9bCvZ5nYbxbXF/HzZz8mrzgOcy4Df8ekd7Crf1SM5i4gci4poEX+qLoKcT1zjpTk+T6VXKN3rHM5xtOIdUFXg0zR2lO92iX2e/wUFLQWcz2z+t2ts6xu+zcELSupKWHFwhUs8tyrX7TaKaovIqchpE7NYcivdb0NExJtURIv4U1gsJE90jftpHLDfdfS8owZBeNdWyOuqtKihLrHxCeNJCPPxkrfpc1xjI072bQ5eEB0czZi4MS7xpPAkt9uIC40jMSzRJZ4c3sVVC0VEuklFtIg/RSTABX+EkKgjseOuhJSp/svJnwZPglNuO7IdFAoXPQ4xrkVtT8qMG89JQ09s3Y4LjePqKd8nJmqQT/Ng8iVt32QlT4RJF/s2By+IC4vjl8f/koigI+OfLxt3GRMTOngD2YnBkYO556R7CA44Mv75msxrGBPvWpyLiPiClv0W6Q2KdkLJbgiPg+QJEBbj74z8p74airZBdSHEp0PiWL/MVnKwdBdby/dQ66hhVEw64wdl+jwHACoOQtFWwEDSeIgZ4p88vCCnPIf9lfuJCY1hdOxooo5+8+iGZtvMnvI9HKg6QEJYAqNiR3l0Y6KISFd0tuy3imgRERERkU50VkRrOIeIiIiIiIdURIuIiIiIeEhFtIiIiIiIh1REi4iIiIh4SEW0iHiXtdBY5+8soLkZHPXdbKPJuRR5P9DY1Iij2eHvNESkD7HWUt/UzdfRfizI3wmISD9SuB3WvQi7/gsTLoCMSyFhlO/zyFsDK/4KhZth+vdg/PkQ7cECNtbC/hXw5Z+hfD/M/AGMPds5r3cfU9VQxef5n/PClheICYnhu5O+y/RB0wkK0Mu/iHRuT9keXt/1Ol/kfcGZI87kvPTzGBYzzN9p9Sp6FRUR76gsgFe+C4Vbndv5a2HvcrjsWQiP9V0ehVvh2QuhvtK5fWA1VObDqT9zf77p/HXw7AXQ1HIVOncFXPAQZF3ZMzn3oOV5y7n1f7e2bv8v9388e+6zTBs0zX9JiUivVlhTyC0f38Ku8l0AbC7ZTPbBbB489UGiQ6P9nF3voeEcIuIdRduPFNCH7f4vlOzybR4HNx0poA/77FGoOOB+GweyjxTQh336R6gu6n5+PlTnqOPZTc+2iTXbZj7J/cRPGYlIX5BTntNaQB/2ef7n7K3c66eMeicV0SLiHQGBncR9/IFXRz8vMMSzVQ8DQ1xjQSFgOnmOvVhoYKhLLCwozA+ZiEhfEdjJ67mGgbWlIlpEvCNpPIw4uW0scwEkjvZtHikZEJ3SNnb6LyAm1f02UrMgrN0QlNN/CRHx3c/Ph8KCwvj+lO+3iYUGhnLS0JP8lJGI9AUjY0cyc/DMNrELR13IiOgRfsqod9Ky3yLiPaV7nUM49n0BI0+FUad4Vrx6y6EtsP09KNoBE+bBiBMhPM6zNvI3wPZ3oPwATLoIhs2G0KgeSbcn1TvqWV+0nvdz3ic6JJozhp/BlKQp/k5LRHq5A5UH+Dz/c9YcWsPslNnMGjKLIZFD/J2WX3S27LeKaBERERGRTnRWRGs4h4iIiIiIh1REi4iIiIh4SEW0iIiIiIiHVESLiIiIiHhIRbSIiIiIiId6dNZsY8ww4DlgCNAMPG2tfaTdPqcB/wb2tIRes9be05N5Sf+wt2Iv20u3YzCMjR/LiBg/zF9pLRRshqKtEBwJQzIhdqjv8+gtasugYCNU5EPcMBicAaGRnrVRXQwH1ztXB0wY6Wwj2HXBkK9SWFPItpJtVDRUkB6bzrj4cVokwM8cjfVsP7SGnIocYkJimJA4kaS4kf5Oy29K60rZWrKVkroShkUPY0LCBEI6WuRHRHqtnv6r4gB+Yq1dbYyJBlYZYz6w1m5ut9+n1toLejgX6Ue2l27nh+//kJK6EgASwxJ5eu7TjIsf59tE9n0Oz18Cjnrndsp0uPw5iBvu2zx6g/pqWPYQLH/4SOyc+2HWVRDo5ktNbSm893NY//KR2Nf/ApnfcDuNwppCfrX8VyzPWw5AoAnkT2f8iTlpc9xuQ7zvs/0fcsOyO2i2zQCcPDiLe2bfSXL8wCuky+vL+cPKP/DG7jdaY/effD8XjNafQZG+pEeHc1hr8621q1u+rwS2AH5YeUH6m7d2v9VaQAMU1xXzzp53fJtEfSV8cNeRAhogfw3kDtA5zIu2ty2gAZbeBcU73W+jYFPbAhrg7dugdJ/bTWwt2dpaQAM02Sbu+/K+Nv1FfKukYh+/Xv1wawENsKwgm60lm/yYlf9sL93epoAGuH/F/RyoOuCnjESkK3w2JtoYkw5MB77s4OETjDHrjDHvGGMmd3L8VcaYbGNMdmFhYU+mKn3A1uKtrrES11iPaqiGkg4KxKoC3+bRW9SVucaaGqC+wv02aks7brehyu0myupd8zhQdYCaxhr38xCvqm6o5mD1QZd4eX2lH7Lxv4oOficqGirUR0X6GJ8U0caYKOBV4GZrbftXj9XACGvtVOBPwOsdtWGtfdpam2WtzUpOTu7RfKX36+hjz3kj5/k2ichBMPVbrvEhGb7No7eIHwFhsW1jscM8G9qSMBoCg9vGUrM8Wjp8ZOxIDKZNbG76XJLD9brhL8nRqZyV2nY4jcGQHjMAhz0Bw2OGu4zRz0jKYHDEYD9lJCJd0eNFtDEmGGcB/YK19rX2j1trK6y1VS3fvw0EG2OSejov6dtOGHoC1069lrDAMMICw7h26rWcMPQE3yYREAAzfwjTvg0mACIS4JInYeh03+bRWySMgm8thuSJzu3ULLj8eYge4n4byRPgm4shLt25PfJUuOhPEB77lYcdbXz8eP542h9JCk/CYDhz+JlcP+16QoM8uzlRvCcsNIYbM3/EGUNPwmBIDk/moRPvZfyggfm7MjpuNI+f8ThpUWkAzB4ym/934v8jJjTGz5mJiCeMtbbnGjfGAM8CJdbamzvZZwhQYK21xphZwBKcV6Y7TSwrK8tmZw/QcafSqtk2k1+VDwZSIlMIMH6asdFRDxUHIDAUYjXkn5oSqC2BiGSPit82qg45x5xHDYLQ6C41UVhTSK2jlkERgwgLCutaHuJVdbXlHKraT3hwJMkDeGaOw4pri6lqrCIpPInIYA9nsRERnzHGrLLWZrnEe7iIPhn4FNiAc4o7gJ8DwwGstU8ZY64HfoRzJo9a4MfW2s++ql0V0SIiIiLiC50V0T06xZ21dhm0G5zous9jwGM9mYeIiIiIiDdpxUIREREREQ+piBYRERER8ZCKaBERERERD/X0st8iPcfRCGV7nd/HjYCg4K/eX3yjeBdUH4LoVIgfmPMAi4hI/6ciWvqminxY/gis/Itze9bVcOKNEOPBnMTiXc3NsP0d5zLdFQec80bP+yOMPt3fmYmIiHidhnNI37RzKXz5JDQ7nP++eBx2fejvrAa2/LXw2g+dBTRAyW54/UdQuN2vaYmIiPQEFdHSN21Y4hrb+Krv85AjSnOgobptrDLfGRcREelnVERL3zRslmssrYOY+E5kMph208IHhUFkon/yERER6UEqoqVvmnIpxA47sh07HCZf4rd0BBiSASfd3DZ2xq9gyFS/pCMiItKTdGOh9E2DJsDCt+HQZufVz0GTIG7YsY+TnhMeB8dfDyNOgoo8iE+HlOkQqJcZERHpf/TXTfqu+OGaQq23iUqCsWf7OwsREZEep+EcIiIiIiIeUhEtIiIiIuIhFdEiIiIiIh5SES0iIiIi4iEV0SIiIiIiHtLsHH3IzoJK3tqQz+p9pczLGMqp45MYHBPu77T6roZq2Pc5rH4ewmJh2rchbSYE6L1llxXvgq1vwu7/wfjzYOw5mkFFnKoLnf1i/WIYPBmmzIchU/ydlYhIlxlrrb9z8FhWVpbNzs72dxo+daC0lgVPf87+0trW2MIT0vnFvIkEB6no65Jt78BLC45sBwbDonchLct/OfVlVYXw4jcgb/WR2IQL4ZInISzaf3mJ/1kLyx6CD//fkVhEIlz5PiSN8V9eIiJuMMassta6FAeqvvqI7QWVbQpogOe/3Mv+0ho/ZdTHNdTCsofbxpoaYccHfkmnXyja3raABtj6BpTu9k8+0nuUH4BPH2gbqymGgo3+yUdExAtURPcRlo4/MeiDHyT0Hjp5vqHzLNBJP1DfEJG+S0V0HzF+cAxpcWFtYt+ePZxhCRoT3SUh4XDyTW1jAUFaba87ksZCyrS2sfHzIGG0X9KRXiQ2Feb8pG0sIgEGZ/gnHxERL9CY6D5kR0Elb67PZ9XeUi6cmsJp45IZHKsiussaqmHvZ7DqGQiPg+nf042F3VW8E7a8Cbs+ggnznDcXxunGQsE5Zn73x7DuJRg8BTK/oRsLRaRP6GxMtIpoEREREZFO6MZCEREREREvUREtIiIiIuIhFdEiIiIiIh5SES0iIiIi4iEV0SIiIiIiHgrydwIiItK5vOLt7CzdDsDY+HGkJI7zTyJFO5yrUoZEwqBJEDXIP3mIiPQSKqJFRHqpXQfXcu2nt5FXcxCA1IgUHj/l94wePM23iexfCc9fAg1Vzu2Rp8ElTzgXURERGaA0nENEpJd6d+97rQU0wIGafN7f+4Fvk2iohg/vOVJAA+z5GA5orn4RGdhURIuI9FJry7a7xkq3+TaJ+koo2OAaL8v1bR4iIr2MimgRkV7q3KFzXGLnpLrGelREIky6xDU+ZLJv8xAR6WVURIuI9FJzUufwrdGXEGgCCTSBfHv01zh56Mm+TSIwGE68Acae49wOjoBzfwtDZ/g2DxGRXsZYa/2dg8eysrJsdrbG44lI/+doqGN/6TYMhtT4sQSHhPsnkYZqKNsHQWEQnw7G+CcPEREfM8asstZmtY9rdg4RkV4sKCSMkYOn+juNlqntJvo7CxGRXkPDOUREREREPKQiWkRERETEQyqiRUREREQ8pCJaRERERMRDKqJFRERERDykIlpERERExEMqokVEREREPKQiWkRERETEQyqiRUREREQ8pCJaRERERMRDKqJFRERERDykIlpERERExEMqokVEREREPKQiWkRERETEQyqiRUREREQ8pCJaRERERMRDKqJFRERERDzUo0W0MWaYMea/xpgtxphNxpibOtjHGGMeNcbsNMasN8bM6MmcRFo11sOeT+Gd2+GjX8OB1f7OSERERPqIoB5u3wH8xFq72hgTDawyxnxgrd181D7nAWNb/s0Gnmz5KtKz9i6Df3z9yPbnj8Gid2HoNL+lJCIiIn1Dj16JttbmW2tXt3xfCWwBUtvtdjHwnHX6AogzxqT0ZF4iNNbBsofaxWph51L/5CMiIiJ9is/GRBtj0oHpwJftHkoF9h+1nYtroY0x5ipjTLYxJruwsLDH8pSBohkaa1zDHcVERERE2vFJEW2MiQJeBW621la0f7iDQ6xLwNqnrbVZ1tqs5OTknkhTBpLgCDjhhrYxEwBj5/onHxEREelTenpMNMaYYJwF9AvW2tc62CUXGHbUdhqQ19N5iTDmTLjsWfjiSQiLgRNvgNTj/J2ViIiI9AE9WkQbYwzwf8AWa+0fO9ntP8D1xpiXcd5QWG6tze/JvEQAZ+E8+RIYf77zKnRgj7+nFBERkX6ip6uGk4DvAhuMMWtbYj8HhgNYa58C3gbOB3YCNcCiHs5JpK2gEH9nICIiIn1MjxbR1tpldDzm+eh9LHBdT+YhIiIiIuJNWrFQRERERMRDKqJFRERERDykIlpERERExEMqokVEREREPKQiWkRERETEQyqiRUREREQ8pCJaRERERMRDKqJFRERERDykIlpERERExEPGuWBg32KMKQT2+jsPP0oCivydRD+jc+pdOp/ep3PqfTqn3qXz6X06p97V1fM5wlqb3D7YJ4vogc4Yk22tzfJ3Hv2Jzql36Xx6n86p9+mcepfOp/fpnHqXt8+nhnOIiIiIiHhIRbSIiIiIiIdURPdNT/s7gX5I59S7dD69T+fU+3ROvUvn0/t0Tr3Lq+dTY6JFRERERDykK9EiIiIiIh5SES0iIiIi4iEV0b2cMSbQGLPGGPNmB4+dZowpN8asbfl3pz9y7EuMMTnGmA0t5yu7g8eNMeZRY8xOY8x6Y8wMf+TZV7hxPtVHPWSMiTPGLDHGbDXGbDHGnNDucfVRD7hxPtVHPWCMGX/UuVprjKkwxtzcbh/1UTe5eT7VRz1kjLnFGLPJGLPRGPOSMSas3eNe6aNB3klXetBNwBYgppPHP7XWXuDDfPqD0621nU22fh4wtuXfbODJlq/Sua86n6A+6qlHgHettfONMSFARLvH1Uc9c6zzCeqjbrPWbgOmgfMiD3AA+Fe73dRH3eTm+QT1UbcZY1KBG4FJ1tpaY8wrwALgmaN280of1ZXoXswYkwbMA/7q71wGkIuB56zTF0CcMSbF30nJwGCMiQFOAf4PwFrbYK0ta7eb+qib3Dyf0nVnAruste1XEFYf7ZrOzqd4LggIN8YE4XzjnNfuca/0URXRvdvDwE+B5q/Y5wRjzDpjzDvGmMm+SatPs8D7xphVxpirOng8Fdh/1HZuS0w6dqzzCeqjnhgFFAJ/bxnG9VdjTGS7fdRH3efO+QT10a5aALzUQVx9tGs6O5+gPuo2a+0B4AFgH5APlFtr32+3m1f6qIroXsoYcwFwyFq76it2W41zPfepwJ+A132RWx93krV2Bs6Pcq4zxpzS7nHTwTGaB7Jzxzqf6qOeCQJmAE9aa6cD1cDP2u2jPuo+d86n+mgXtAyNuQj4Z0cPdxBTH/0Kxzif6qMeMMbE47zSPBIYCkQaY77TfrcODvW4j6qI7r1OAi4yxuQALwNnGGP+cfQO1toKa21Vy/dvA8HGmCSfZ9qHWGvzWr4ewjnubFa7XXKBYUdtp+H6MZC0ONb5VB/1WC6Qa639smV7Cc4isP0+6qPuOeb5VB/tsvOA1dbagg4eUx/1XKfnU33UY2cBe6y1hdbaRuA14MR2+3ilj6qI7qWstXdYa9Ostek4P+L5yFrb5p2UMWaIMca0fD8L5/9nsc+T7SOMMZHGmOjD3wNzgY3tdvsP8L2WO3ePx/kxUL6PU+0T3Dmf6qOesdYeBPYbY8a3hM4ENrfbTX3UTe6cT/XRLvsmnQ89UB/1XKfnU33UY/uA440xES3n7UycEzQczSt9VLNz9DHGmGsArLVPAfOBHxljHEAtsMBqCcqvMhj4V8trURDworX23Xbn9G3gfGAnUAMs8lOufYE751N91HM3AC+0fLy7G1ikPtotxzqf6qMeMsZEAGcDVx8VUx/tIjfOp/qoB6y1XxpjluAcBuMA1gBP90Qf1bLfIiIiIiIe0nAOEREREREPqYgWEREREfGQimgREREREQ+piBYRERER8ZCKaBERERERD6mIFhERERHxkIpoEZF+whhzmjHmza94fKEx5rEe+LkLjTFDj9rO0YpqItLfqYgWEZHuWggMPdZOIiL9iVYsFBHxoZYl0l8B0oBA4F6cq2b9EYgCioCF1tp8Y8zHwFpgFhADXGmtXdGy9O/DQDjOFcwWWWu3eZhHMvAUMLwldLO1drkx5u6W2KiWrw9bax9tOeZXwLeB/S15rgJygCycqwLWAie0tHeDMeZCIBi4zFq71ZP8RER6O12JFhHxrXOBPGvtVGvtFOBd4E/AfGvtccDfgN8ctX+ktfZE4NqWxwC2AqdYa6cDdwL3dSGPR4CHrLUzgUuBvx712ATgHJzF+13GmGBjTFbLftOBr+MsnLHWLgGygW9ba6dZa2tb2iiy1s4AngRu7UJ+IiK9mq5Ei4j41gbgAWPM74A3gVJgCvCBMQacV6fzj9r/JQBr7SfGmBhjTBwQDTxrjBkLWJxXez11FjCp5WcCxBhjolu+f8taWw/UG2MOAYOBk4F/Hy6SjTFvHKP911q+rsJZdIuI9CsqokVEfMhau90YcxxwPnA/8AGwyVp7QmeHdLB9L/Bfa+3XjDHpwMddSCUAOOGoK8cAtBTV9UeFmnD+rTB45nAbh48XEelXNJxDRMSHWmaxqLHW/gN4AJgNJBtjTmh5PNgYM/moQy5viZ8MlFtry4FY4EDL4wu7mMr7wPVH5TXtGPsvAy40xoQZY6KAeUc9Vonz6riIyIChqwMiIr6VAfzBGNMMNAI/AhzAo8aYWJyvyw8Dm1r2LzXGfEbLjYUtsd/jHM7xY+CjLuZxI/C4MWZ9y8/8BLims52ttSuNMf8B1gF7cY6DLm95+BngqXY3FoqI9GvG2vafFIqISG/QMjvHrdbabH/nAmCMibLWVhljInAW3VdZa1f7Oy8REX/QlWgREXHX08aYSUAY8KwKaBEZyHQlWkSknzHGLAJuahdebq29zh/5iIj0RyqiRUREREQ8pNk5REREREQ8pCJaRERERMRDKqJFRERERDykIlpERERExEP/H6o2ypnlQiCSAAAAAElFTkSuQmCC\n",
      "text/plain": [
       "<Figure size 864x432 with 1 Axes>"
      ]
     },
     "metadata": {
      "needs_background": "light"
     },
     "output_type": "display_data"
    }
   ],
   "source": [
    "plt.figure(figsize=(12,6))\n",
    "Sns.scatterplot(x='sepal_length',y='sepal_width',data=df,hue='species')"
   ]
  },
  {
   "cell_type": "code",
   "execution_count": 24,
   "metadata": {},
   "outputs": [
    {
     "data": {
      "text/plain": [
       "<AxesSubplot:xlabel='petal_length', ylabel='petal_width'>"
      ]
     },
     "execution_count": 24,
     "metadata": {},
     "output_type": "execute_result"
    },
    {
     "data": {
      "image/png": "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\n",
      "text/plain": [
       "<Figure size 864x432 with 1 Axes>"
      ]
     },
     "metadata": {
      "needs_background": "light"
     },
     "output_type": "display_data"
    }
   ],
   "source": [
    "plt.figure(figsize=(12,6))\n",
    "Sns.scatterplot(x='petal_length',y='petal_width',data=df,hue='species')"
   ]
  },
  {
   "cell_type": "markdown",
   "metadata": {},
   "source": [
    "## 2)Count Plot"
   ]
  },
  {
   "cell_type": "code",
   "execution_count": 25,
   "metadata": {},
   "outputs": [
    {
     "name": "stderr",
     "output_type": "stream",
     "text": [
      "c:\\python\\python38\\lib\\site-packages\\seaborn\\_decorators.py:36: FutureWarning: Pass the following variable as a keyword arg: x. From version 0.12, the only valid positional argument will be `data`, and passing other arguments without an explicit keyword will result in an error or misinterpretation.\n",
      "  warnings.warn(\n"
     ]
    },
    {
     "data": {
      "text/plain": [
       "<AxesSubplot:xlabel='species', ylabel='count'>"
      ]
     },
     "execution_count": 25,
     "metadata": {},
     "output_type": "execute_result"
    },
    {
     "data": {
      "image/png": "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
...

[Message clipped]  View entire message
